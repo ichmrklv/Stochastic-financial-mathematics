{
  "nbformat": 4,
  "nbformat_minor": 0,
  "metadata": {
    "colab": {
      "provenance": []
    },
    "kernelspec": {
      "name": "python3",
      "display_name": "Python 3"
    },
    "language_info": {
      "name": "python"
    }
  },
  "cells": [
    {
      "cell_type": "code",
      "execution_count": 7,
      "metadata": {
        "id": "jpMR_s4ct7SA"
      },
      "outputs": [],
      "source": [
        "import pandas as pd\n",
        "import numpy as np\n",
        "from numpy.linalg import inv, det\n",
        "import yfinance as yf"
      ]
    },
    {
      "cell_type": "code",
      "source": [
        "# ! pip install yfinance"
      ],
      "metadata": {
        "id": "znlDCXjKegHP"
      },
      "execution_count": 5,
      "outputs": []
    },
    {
      "cell_type": "markdown",
      "source": [
        "Выберем четыре тикера так, чтобы два из них содержали котировки\n",
        "акций технологических компаний (AMZN, NVDA), а других два — котировки\n",
        "биржевых инвестиционных фондов (ITB, SPY). Период – ежедневные котировки\n",
        "акции в течении года от 01.01.2021 до 01.01.2022."
      ],
      "metadata": {
        "id": "M2pfQ-rjTU45"
      }
    },
    {
      "cell_type": "markdown",
      "source": [
        "1. Amazon (тикер: AMZN) - американский оnline портал по продаже товаров и услуг.\n",
        "\n",
        "2. Корпорация NVIDIA (тикер: NVDA) специализируется на графике для персональных компьютеров (ПК), графических процессорах (GPU), а также на искусственном интеллекте (AI).\n",
        "\n",
        "3. iShares U.S. Home Construction ETF (тикер NYSE: ITB) — фонд, предоставляющий доступ к американской индустрии жилищного строительства и недвижимости.\n",
        "\n",
        "4. SPDR S&P 500 ETF Trust (тикер NYSE: SPY) — исторически первый успешный американский фонд, акции которого обращаются на Нью-Йоркской бирже. "
      ],
      "metadata": {
        "id": "oC-6miB3X3Po"
      }
    },
    {
      "cell_type": "code",
      "source": [
        "# получим данные: \n",
        "a = yf.download('AMZN','2021-01-01','2022-01-01')[\"Close\"].values\n",
        "b = yf.download('NVDA','2021-01-01','2022-01-01')[\"Close\"].values\n",
        "c = yf.download('ITB','2021-01-01','2022-01-01')[\"Close\"].values\n",
        "d = yf.download('SPY','2021-01-01','2022-01-01')[\"Close\"].values\n",
        "\n",
        "# преобразуем в один массив: \n",
        "data = np.array([a,b,c,d])\n",
        "\n",
        "# и создадим таблицу значений доходности по дням в течение года: \n",
        "df = pd.DataFrame(data.T).apply(lambda x: ((x.shift(-1)-x)/x)[:-1].values)\n",
        "df.columns = ['AMZN', 'NVDA', 'ITB', 'SPY']\n",
        "\n",
        "V = df.cov() * 10_000    # ковариационная матрица\n",
        "mu = df.mean(axis=0)    # вектор доходностей"
      ],
      "metadata": {
        "colab": {
          "base_uri": "https://localhost:8080/"
        },
        "id": "BNxuR3stY7QN",
        "outputId": "49cfe7cd-0b1f-4a1a-c132-c09ddd576a96"
      },
      "execution_count": 27,
      "outputs": [
        {
          "output_type": "stream",
          "name": "stdout",
          "text": [
            "[*********************100%***********************]  1 of 1 completed\n",
            "[*********************100%***********************]  1 of 1 completed\n",
            "[*********************100%***********************]  1 of 1 completed\n",
            "[*********************100%***********************]  1 of 1 completed\n"
          ]
        }
      ]
    },
    {
      "cell_type": "code",
      "source": [
        "print('ковариационная матрица:\\n', V)"
      ],
      "metadata": {
        "colab": {
          "base_uri": "https://localhost:8080/"
        },
        "id": "Jsk_bj6Xad9b",
        "outputId": "611c0145-87dc-4a7f-d5f0-caf38166c2c8"
      },
      "execution_count": 55,
      "outputs": [
        {
          "output_type": "stream",
          "name": "stdout",
          "text": [
            "ковариационная матрица:\n",
            "           AMZN      NVDA       ITB       SPY\n",
            "AMZN  2.293585  2.386155  0.679699  0.690560\n",
            "NVDA  2.386155  8.061867  1.562878  1.360397\n",
            "ITB   0.679699  1.562878  2.643368  0.866054\n",
            "SPY   0.690560  1.360397  0.866054  0.675738\n"
          ]
        }
      ]
    },
    {
      "cell_type": "code",
      "source": [
        "print('вектор доходностей: \\n', mu)"
      ],
      "metadata": {
        "colab": {
          "base_uri": "https://localhost:8080/"
        },
        "id": "l_wP_FHzafqO",
        "outputId": "acbc7479-bbae-4747-994a-f9a740f7dcae"
      },
      "execution_count": 56,
      "outputs": [
        {
          "output_type": "stream",
          "name": "stdout",
          "text": [
            "вектор доходностей: \n",
            " AMZN    0.000295\n",
            "NVDA    0.003621\n",
            "ITB     0.001782\n",
            "SPY     0.001042\n",
            "dtype: float64\n"
          ]
        }
      ]
    },
    {
      "cell_type": "markdown",
      "source": [
        "# 1. Портфель минимального риска"
      ],
      "metadata": {
        "id": "WCDyKIwqSwvc"
      }
    },
    {
      "cell_type": "code",
      "source": [
        "I = np.array([1,1,1,1])\n",
        "V_inv = inv(V)\n",
        "\n",
        "alpha = I.T @ inv(V) @ I\n",
        "beta = mu.T @ inv(V) @ mu\n",
        "gamma = mu.T @ inv(V) @ mu\n",
        "delta = alpha*gamma - beta**2"
      ],
      "metadata": {
        "id": "W9iYp3r3bwU-"
      },
      "execution_count": 39,
      "outputs": []
    },
    {
      "cell_type": "code",
      "source": [
        "X = 1/alpha * (inv(V) @ I)\n",
        "X, print(df.columns)"
      ],
      "metadata": {
        "colab": {
          "base_uri": "https://localhost:8080/"
        },
        "id": "emswySOydL2P",
        "outputId": "ae7a1555-c2f3-4cfa-dc3c-cdc2072181f6"
      },
      "execution_count": 41,
      "outputs": [
        {
          "output_type": "stream",
          "name": "stdout",
          "text": [
            "Index(['AMZN', 'NVDA', 'ITB', 'SPY'], dtype='object')\n"
          ]
        },
        {
          "output_type": "execute_result",
          "data": {
            "text/plain": [
              "(array([ 0.0545992 , -0.12273818, -0.11205978,  1.18019875]), None)"
            ]
          },
          "metadata": {},
          "execution_count": 41
        }
      ]
    },
    {
      "cell_type": "markdown",
      "source": [
        "Видим отрицательные доли NVDA, ITB - их следует исключить из портфеля и продать. "
      ],
      "metadata": {
        "id": "6gRJ8uU_ddX_"
      }
    },
    {
      "cell_type": "code",
      "source": [
        "mu_X = X @ mu\n",
        "print('доходность: ', round(mu_X * 100, 4))\n",
        "\n",
        "sigma_X = 1/alpha**0.5\n",
        "print('риск:', round(sigma_X,4))"
      ],
      "metadata": {
        "colab": {
          "base_uri": "https://localhost:8080/"
        },
        "id": "Y2CSQKPGdtuI",
        "outputId": "8c9b0118-7ad6-4354-b954-611388d623e6"
      },
      "execution_count": 53,
      "outputs": [
        {
          "output_type": "stream",
          "name": "stdout",
          "text": [
            "доходность:  0.0602\n",
            "риск: 0.7558\n"
          ]
        }
      ]
    },
    {
      "cell_type": "markdown",
      "source": [
        "# 2. Портфель минимального риска с фиксированным уровнем доходности "
      ],
      "metadata": {
        "id": "_YvAhxnxS3z3"
      }
    },
    {
      "cell_type": "markdown",
      "source": [
        "Допустим, инвестор хотел бы получать от акций больше, чем принятая ЦБ учетная ставка в 7,5% "
      ],
      "metadata": {
        "id": "-yxbWtYiicoN"
      }
    },
    {
      "cell_type": "markdown",
      "source": [
        "![image.png](data:image/png;base64,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)"
      ],
      "metadata": {
        "id": "lw7VFWeEinWL"
      }
    },
    {
      "cell_type": "code",
      "source": [
        "E = 7.5    # уровень доходности\n",
        "\n",
        "lmda = (gamma - beta * E) / delta\n",
        "delt_mu = (alpha * E - beta) / delta\n",
        "X = inv(V) @ (lmda*I + delt_mu*mu)\n",
        "X, print(df.columns)"
      ],
      "metadata": {
        "colab": {
          "base_uri": "https://localhost:8080/"
        },
        "id": "dDaARYkpS_s5",
        "outputId": "026cf2ec-ed7d-406a-dd52-c6d926a2353f"
      },
      "execution_count": 80,
      "outputs": [
        {
          "output_type": "stream",
          "name": "stdout",
          "text": [
            "Index(['AMZN', 'NVDA', 'ITB', 'SPY'], dtype='object')\n"
          ]
        },
        {
          "output_type": "execute_result",
          "data": {
            "text/plain": [
              "(array([-1851.76920463,  1101.5970243 ,   628.16894222,  2815.21272502]), None)"
            ]
          },
          "metadata": {},
          "execution_count": 80
        }
      ]
    },
    {
      "cell_type": "markdown",
      "source": [
        "Следует продать акции AMZN, т.к. доля отрицательная "
      ],
      "metadata": {
        "id": "95_nTSCthHPw"
      }
    },
    {
      "cell_type": "code",
      "source": [
        "mu_X = X @ mu\n",
        "print('доходность: ', round(mu_X,4) )   # проверка заданного уровня доходности \n",
        "\n",
        "# найдем риск по уравнению минимальной границы: \n",
        "sigma_X = (alpha*(E**2)/delta - 2*beta*E/delta + gamma/delta)**0.5\n",
        "print('риск:', round(sigma_X,4))\n"
      ],
      "metadata": {
        "colab": {
          "base_uri": "https://localhost:8080/"
        },
        "id": "w5dp7j6GgX1o",
        "outputId": "e2a97404-6863-40cd-9ddc-cb31491a10e9"
      },
      "execution_count": 81,
      "outputs": [
        {
          "output_type": "stream",
          "name": "stdout",
          "text": [
            "доходность:  7.4961\n",
            "риск: 4383.4014\n"
          ]
        }
      ]
    },
    {
      "cell_type": "markdown",
      "source": [
        "# 3. Портфель максимальной полезности"
      ],
      "metadata": {
        "id": "j_pbtt7ES73e"
      }
    },
    {
      "cell_type": "markdown",
      "source": [
        "Для двух активов в Excel я рассчитывала через U' = 0, однако с большим числом активов удобнее проводить расчеты по указанной в методичке формуле."
      ],
      "metadata": {
        "id": "zEFp8atRlqFI"
      }
    },
    {
      "cell_type": "markdown",
      "source": [
        "![image.png](data:image/png;base64,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)"
      ],
      "metadata": {
        "id": "GDaKYmGUi31O"
      }
    },
    {
      "cell_type": "code",
      "source": [
        "a = 0.3     # степень непринятия риска инвестором \n",
        "\n",
        "X = 1/a * (inv(V) @ mu - inv(V) @ I*((inv(V) @ I @ mu)- a)/ (inv(V) @ I @ I))\n",
        "\n",
        "print('портфель максимальной полезности: ')\n",
        "X, print(df.columns)"
      ],
      "metadata": {
        "colab": {
          "base_uri": "https://localhost:8080/"
        },
        "id": "coYr0iG6TAMr",
        "outputId": "8d1b3cab-0aae-4008-f088-40a5baec3814"
      },
      "execution_count": 90,
      "outputs": [
        {
          "output_type": "stream",
          "name": "stdout",
          "text": [
            "портфель максимальной полезности: \n",
            "Index(['AMZN', 'NVDA', 'ITB', 'SPY'], dtype='object')\n"
          ]
        },
        {
          "output_type": "execute_result",
          "data": {
            "text/plain": [
              "(array([ 0.0519985 , -0.12087477, -0.11084978,  1.17972605]), None)"
            ]
          },
          "metadata": {},
          "execution_count": 90
        }
      ]
    },
    {
      "cell_type": "code",
      "source": [
        "print(\"Риск портфеля\", round((X.T @ V @ X)**0.5, 4))\n",
        "print('доходность: ', round(X @ mu,4))\n",
        "print('полезность U: ', round(X @ mu - a/2 * X.T @ V @ X, 4))"
      ],
      "metadata": {
        "colab": {
          "base_uri": "https://localhost:8080/"
        },
        "id": "NPciEXsni6m4",
        "outputId": "e3e29a1c-221c-456d-b83b-faeb873e0ad3"
      },
      "execution_count": 99,
      "outputs": [
        {
          "output_type": "stream",
          "name": "stdout",
          "text": [
            "Риск портфеля 0.7558\n",
            "доходность:  0.0006\n",
            "полезность U:  -0.0851\n"
          ]
        }
      ]
    }
  ]
}